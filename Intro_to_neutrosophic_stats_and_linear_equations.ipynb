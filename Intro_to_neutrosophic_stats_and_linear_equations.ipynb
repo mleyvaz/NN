{
  "nbformat": 4,
  "nbformat_minor": 0,
  "metadata": {
    "colab": {
      "name": "Intro to neutrosophic stats and linear equations.ipynb",
      "provenance": [],
      "include_colab_link": true
    },
    "kernelspec": {
      "name": "python3",
      "display_name": "Python 3"
    }
  },
  "cells": [
    {
      "cell_type": "markdown",
      "metadata": {
        "id": "view-in-github",
        "colab_type": "text"
      },
      "source": [
        "<a href=\"https://colab.research.google.com/github/mleyvaz/NN/blob/master/Intro_to_neutrosophic_stats_and_linear_equations.ipynb\" target=\"_parent\"><img src=\"https://colab.research.google.com/assets/colab-badge.svg\" alt=\"Open In Colab\"/></a>"
      ]
    },
    {
      "cell_type": "markdown",
      "metadata": {
        "id": "vdFk-30x8_57"
      },
      "source": [
        "# Computación neutrosófica mediante Sympy \n",
        "\n",
        "Paper at:[Computación neutrosófica mediante Sympy](http://fs.unm.edu/NCML/ComputacionNeutrosoficaMediante.pdf)\n"
      ]
    },
    {
      "cell_type": "markdown",
      "metadata": {
        "id": "WQw8UHR9Oa18"
      },
      "source": [
        "## Introduccion a los números neutrosóficos"
      ]
    },
    {
      "cell_type": "code",
      "metadata": {
        "id": "nqrA4xE49CI4"
      },
      "source": [
        "from sympy import var"
      ],
      "execution_count": null,
      "outputs": []
    },
    {
      "cell_type": "code",
      "metadata": {
        "id": "kQeom-I4aqeu",
        "colab": {
          "base_uri": "https://localhost:8080/",
          "height": 34
        },
        "outputId": "0e82700d-9ecb-4857-d602-c97e9fc3bc69"
      },
      "source": [
        "i = var('i')\n",
        "i+2"
      ],
      "execution_count": null,
      "outputs": [
        {
          "output_type": "execute_result",
          "data": {
            "text/plain": [
              "i + 2"
            ]
          },
          "metadata": {
            "tags": []
          },
          "execution_count": 3
        }
      ]
    },
    {
      "cell_type": "markdown",
      "metadata": {
        "id": "0KaJbs57dGqJ"
      },
      "source": [
        "# Múltiplicación por un escalar "
      ]
    },
    {
      "cell_type": "code",
      "metadata": {
        "id": "_69MmndTdQKK",
        "colab": {
          "base_uri": "https://localhost:8080/",
          "height": 34
        },
        "outputId": "1017beaf-9666-487e-f504-58acaa15fa26"
      },
      "source": [
        "2*(2+i)\n",
        "\n"
      ],
      "execution_count": null,
      "outputs": [
        {
          "output_type": "execute_result",
          "data": {
            "text/plain": [
              "2*i + 4"
            ]
          },
          "metadata": {
            "tags": []
          },
          "execution_count": 4
        }
      ]
    },
    {
      "cell_type": "markdown",
      "metadata": {
        "id": "EfH1NST6dYdN"
      },
      "source": [
        "#  De-neutrosificación  con mpmath\n",
        "\n",
        "Ejercicio. Realice la de-neutrosoficacion del número $ 3+2*i $\n",
        "\n",
        "con $i{\\in}[10,30]$ Utilice la libreria mpmath"
      ]
    },
    {
      "cell_type": "code",
      "metadata": {
        "id": "epE7GZpac5yD",
        "colab": {
          "base_uri": "https://localhost:8080/",
          "height": 34
        },
        "outputId": "daa7801a-fbbb-4ece-ec69-0e2504500f17"
      },
      "source": [
        "from mpmath import *\n",
        "mp.dps = 15 #Establece la precisión \n",
        "i=mpi(10, 30)\n",
        "3 + 2*i"
      ],
      "execution_count": null,
      "outputs": [
        {
          "output_type": "execute_result",
          "data": {
            "text/plain": [
              "mpi('23.0', '63.0')"
            ]
          },
          "metadata": {
            "tags": []
          },
          "execution_count": 5
        }
      ]
    },
    {
      "cell_type": "code",
      "metadata": {
        "id": "nirJ2mSTdnlx",
        "colab": {
          "base_uri": "https://localhost:8080/",
          "height": 34
        },
        "outputId": "7f0f4d11-0292-4ff4-9661-b7d35d19fdce"
      },
      "source": [
        "mp.dps = 15 #Establece la precisión \n",
        "i=mpi(2, 3)\n",
        "2*i + 4"
      ],
      "execution_count": null,
      "outputs": [
        {
          "output_type": "execute_result",
          "data": {
            "text/plain": [
              "mpi('8.0', '10.0')"
            ]
          },
          "metadata": {
            "tags": []
          },
          "execution_count": 6
        }
      ]
    },
    {
      "cell_type": "markdown",
      "metadata": {
        "id": "rmn0wRSA_wZQ"
      },
      "source": [
        "Matrices neutrosóficas\n",
        "\n",
        "Resolver el siguiente sistema de ecuaciones lineales. \n",
        "* $ x + 4 y =  2$\n",
        "\n",
        "* $-2 x +   y = 14$"
      ]
    },
    {
      "cell_type": "code",
      "metadata": {
        "id": "gSgiIj8hpWNT",
        "colab": {
          "base_uri": "https://localhost:8080/",
          "height": 34
        },
        "outputId": "d02cd77e-2251-4a44-ad3d-699da3aed01a"
      },
      "source": [
        "from sympy import Matrix, solve_linear_system\n",
        "from sympy.abc import x, y\n",
        "i = var('i')\n",
        "system = Matrix(( (1, 4, 2), (-2, 1, 14)))\n",
        "solve_linear_system(system, x, y)\n",
        "\n"
      ],
      "execution_count": null,
      "outputs": [
        {
          "output_type": "execute_result",
          "data": {
            "text/plain": [
              "{x: -6, y: 2}"
            ]
          },
          "metadata": {
            "tags": []
          },
          "execution_count": 7
        }
      ]
    },
    {
      "cell_type": "markdown",
      "metadata": {
        "id": "epvaa9U-wUK3"
      },
      "source": [
        "#Introduciendo indeterminación\n",
        "Resolver el siguiente sistema de ecuaciones lineales. \n",
        "* $ x + 4 y =  2+i$\n",
        "\n",
        "* $-2 x +   y = 14+i$"
      ]
    },
    {
      "cell_type": "code",
      "metadata": {
        "id": "0lbNWTQapLmH"
      },
      "source": [
        ""
      ],
      "execution_count": null,
      "outputs": []
    },
    {
      "cell_type": "code",
      "metadata": {
        "id": "rGTZ3Y7ZpuGC",
        "colab": {
          "base_uri": "https://localhost:8080/",
          "height": 34
        },
        "outputId": "08fabd13-c9af-4bb8-8ba3-9a00014d1a7f"
      },
      "source": [
        "\n",
        "from sympy import Matrix, solve_linear_system\n",
        "from sympy.abc import x, y\n",
        "i = var('i')\n",
        "system = Matrix(( (1, 4, 2+i), (-2, 1, 14+i)))\n",
        "solve_linear_system(system, x, y)\n"
      ],
      "execution_count": null,
      "outputs": [
        {
          "output_type": "execute_result",
          "data": {
            "text/plain": [
              "{x: -i/3 - 6, y: i/3 + 2}"
            ]
          },
          "metadata": {
            "tags": []
          },
          "execution_count": 8
        }
      ]
    },
    {
      "cell_type": "markdown",
      "metadata": {
        "id": "NTsxz1mlyv5y"
      },
      "source": [
        "![Flujo Vehicular](https://github.com/mleyvaz/NN/blob/master/img/flujo%20vehicular.png?raw=true)"
      ]
    },
    {
      "cell_type": "code",
      "metadata": {
        "id": "BRdVwieSpQuL",
        "colab": {
          "base_uri": "https://localhost:8080/",
          "height": 34
        },
        "outputId": "73c8d2ae-3c5e-4263-bc6b-91fc0fefb880"
      },
      "source": [
        "from sympy import Matrix, solve_linear_system\n",
        "from sympy.abc import x, y, z\n",
        "\n",
        "system = Matrix(( (1,0,0, 1100), (1, 1, 0, 1300), (0, 1, 2,3400)))\n",
        "\n",
        "solve_linear_system(system, x, y, z)"
      ],
      "execution_count": null,
      "outputs": [
        {
          "output_type": "execute_result",
          "data": {
            "text/plain": [
              "{x: 1100, y: 200, z: 1600}"
            ]
          },
          "metadata": {
            "tags": []
          },
          "execution_count": 9
        }
      ]
    },
    {
      "cell_type": "code",
      "metadata": {
        "id": "i_x49w2JR4l_",
        "colab": {
          "base_uri": "https://localhost:8080/",
          "height": 34
        },
        "outputId": "ed3cbdfd-81f4-461b-b2e8-98db42b46ce3"
      },
      "source": [
        "from sympy import Matrix, solve_linear_system\n",
        "from sympy.abc import x, y, z\n",
        "\n",
        "system = Matrix(( (1,0,0, 1100-i), (1, 1, 0, 1300), (0, 1, 2,3400-i)))\n",
        "\n",
        "solve_linear_system(system, x, y, z)"
      ],
      "execution_count": null,
      "outputs": [
        {
          "output_type": "execute_result",
          "data": {
            "text/plain": [
              "{x: -i + 1100, y: i + 200, z: -i + 1600}"
            ]
          },
          "metadata": {
            "tags": []
          },
          "execution_count": 10
        }
      ]
    },
    {
      "cell_type": "markdown",
      "metadata": {
        "id": "AYD_miEDOdbd"
      },
      "source": [
        "Cite: Leyva-Vázquez, M., & Smarandache, F. (2018). Computación neutrosófica mediante Sympy. Neutrosophic Computing and Machine Learning, 04, 16-21. doi: 10.5281/zenodo.2139584\n",
        "\n"
      ]
    }
  ]
}